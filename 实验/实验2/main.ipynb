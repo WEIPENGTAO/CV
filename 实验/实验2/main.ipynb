{
 "cells": [
  {
   "cell_type": "markdown",
   "id": "f21e221d",
   "metadata": {},
   "source": [
    "### 图像的基本操作"
   ]
  },
  {
   "cell_type": "code",
   "execution_count": 1,
   "id": "faee837d",
   "metadata": {},
   "outputs": [],
   "source": [
    "import cv2\n",
    "import numpy as np"
   ]
  },
  {
   "cell_type": "code",
   "execution_count": 2,
   "id": "80124ca3",
   "metadata": {},
   "outputs": [],
   "source": [
    "# 读取图像\n",
    "img = cv2.imread('image.jpg')"
   ]
  },
  {
   "cell_type": "code",
   "execution_count": 3,
   "id": "338a9495",
   "metadata": {},
   "outputs": [],
   "source": [
    "# 平移\n",
    "# 定义平移矩阵\n",
    "M = np.float32([[1, 0, 100], [0, 1, 150]])\n",
    "# 使用 warpAffine 函数对图像进行平移操作\n",
    "shifted_img = cv2.warpAffine(img, M, (img.shape[1], img.shape[0]))"
   ]
  },
  {
   "cell_type": "code",
   "execution_count": 4,
   "id": "46b936ea",
   "metadata": {},
   "outputs": [],
   "source": [
    "# 显示图片\n",
    "cv2.imshow('shifted_img', shifted_img)\n",
    "cv2.waitKey(0)\n",
    "cv2.destroyAllWindows()"
   ]
  },
  {
   "cell_type": "code",
   "execution_count": 5,
   "id": "1b111941",
   "metadata": {},
   "outputs": [],
   "source": [
    "# 缩放\n",
    "# 使用 resize 函数缩放到指定尺寸\n",
    "resized_img = cv2.resize(img, (1024, 768))\n",
    "# 使用 resize 函数按比例缩小到原来的 60%\n",
    "resized_proportion_img = cv2.resize(img, None, fx=0.6, fy=0.6)"
   ]
  },
  {
   "cell_type": "code",
   "execution_count": 6,
   "id": "f0a7dc7f",
   "metadata": {},
   "outputs": [],
   "source": [
    "# 显示图片\n",
    "cv2.imshow('resized_img', resized_img)\n",
    "cv2.waitKey(0)\n",
    "cv2.destroyAllWindows()"
   ]
  },
  {
   "cell_type": "code",
   "execution_count": 7,
   "id": "64d810a4",
   "metadata": {},
   "outputs": [],
   "source": [
    "# 显示图片\n",
    "cv2.imshow('resized_proportion_img', resized_proportion_img)\n",
    "cv2.waitKey(0)\n",
    "cv2.destroyAllWindows()"
   ]
  },
  {
   "cell_type": "code",
   "execution_count": 7,
   "id": "bafb7a83",
   "metadata": {},
   "outputs": [],
   "source": [
    "# 翻转\n",
    "# 使用 flip 函数对图像进行翻转操作\n",
    "# 0 表示垂直翻转，1 表示水平翻转，-1 表示水平和垂直翻转\n",
    "flipped_img = cv2.flip(img, 0)  # 垂直翻转"
   ]
  },
  {
   "cell_type": "code",
   "execution_count": 8,
   "id": "9ad77022",
   "metadata": {},
   "outputs": [],
   "source": [
    "# 显示图片\n",
    "cv2.imshow('flipped_img', flipped_img)\n",
    "cv2.waitKey(0)\n",
    "cv2.destroyAllWindows()"
   ]
  },
  {
   "cell_type": "code",
   "execution_count": 9,
   "id": "4b1db679",
   "metadata": {},
   "outputs": [],
   "source": [
    "flipped_img = cv2.flip(img, 1)  # 水平翻转"
   ]
  },
  {
   "cell_type": "code",
   "execution_count": 11,
   "id": "31888b79",
   "metadata": {},
   "outputs": [],
   "source": [
    "# 显示图片\n",
    "cv2.imshow('flipped_img', flipped_img)\n",
    "cv2.waitKey(0)\n",
    "cv2.destroyAllWindows()"
   ]
  },
  {
   "cell_type": "code",
   "execution_count": 12,
   "id": "a1c4e1af",
   "metadata": {},
   "outputs": [],
   "source": [
    "flipped_img = cv2.flip(img, -1)  # 水平+垂直翻转"
   ]
  },
  {
   "cell_type": "code",
   "execution_count": 13,
   "id": "b55c3837",
   "metadata": {},
   "outputs": [],
   "source": [
    "# 显示图片\n",
    "cv2.imshow('flipped_img', flipped_img)\n",
    "cv2.waitKey(0)\n",
    "cv2.destroyAllWindows()"
   ]
  },
  {
   "cell_type": "code",
   "execution_count": 15,
   "id": "9ba4705b",
   "metadata": {},
   "outputs": [],
   "source": [
    "# 旋转\n",
    "# 定义旋转中心点和旋转角度\n",
    "# 得到输入图像的高度和宽度\n",
    "(h, w) = img.shape[:2]\n",
    "# 得到中心点坐标的整数值\n",
    "center = (w // 2, h // 2)\n",
    "# 生成一个旋转矩阵 M\n",
    "M = cv2.getRotationMatrix2D(center, 45, 1.0)\n",
    "# 使用 warpAffine 函数对图像进行旋转操作\n",
    "rotated_img = cv2.warpAffine(img, M, (w, h))"
   ]
  },
  {
   "cell_type": "code",
   "execution_count": 16,
   "id": "4eb3b722",
   "metadata": {},
   "outputs": [],
   "source": [
    "# 显示图片\n",
    "cv2.imshow('rotated_img', rotated_img)\n",
    "cv2.waitKey(0)\n",
    "cv2.destroyAllWindows()"
   ]
  },
  {
   "cell_type": "code",
   "execution_count": 18,
   "id": "733991f5",
   "metadata": {},
   "outputs": [],
   "source": [
    "# 缩略\n",
    "# 使用 resize 函数缩小图像\n",
    "resized_small_img = cv2.resize(img, None, fx=0.5, fy=0.5)\n",
    "# 创建新的图像，大小为原图像和缩小图像的宽度之和和原图像的高度\n",
    "new_img = np.zeros((img.shape[0], img.shape[1] + resized_small_img.shape[1], img.shape[2]), dtype=np.uint8)\n",
    "# 将缩小的图像放在左上角\n",
    "new_img[:resized_small_img.shape[0], :resized_small_img.shape[1]] = resized_small_img\n",
    "# 将原图像放在缩小图像的右边\n",
    "new_img[:img.shape[0], resized_small_img.shape[1]:] = img"
   ]
  },
  {
   "cell_type": "code",
   "execution_count": 19,
   "id": "fef3d6bd",
   "metadata": {},
   "outputs": [],
   "source": [
    "# 显示图片\n",
    "cv2.imshow('new_img', new_img)\n",
    "cv2.waitKey(0)\n",
    "cv2.destroyAllWindows()"
   ]
  },
  {
   "cell_type": "markdown",
   "id": "551df59f",
   "metadata": {},
   "source": [
    "### 转换为灰度图"
   ]
  },
  {
   "cell_type": "markdown",
   "id": "25e7c81c",
   "metadata": {},
   "source": [
    "#### 1. 读取图片并转换为灰度图像\n",
    "img = cv2.imread('cheetah.png')\n",
    "gray = cv2.cvtColor(img, cv2.COLOR_BGR2GRAY)\n",
    "\n",
    "#### 2. 调整灰度图片为正方形\n",
    "size = max(gray.shape[0], gray.shape[1])\n",
    "top = (size - gray.shape[0]) // 2\n",
    "bottom = size - gray.shape[0] - top\n",
    "left = (size - gray.shape[1]) // 2\n",
    "right = size - gray.shape[1] - left\n",
    "square_gray = cv2.copyMakeBorder(gray, top, bottom, left, right, cv2.BORDER_CONSTANT, value=0)\n",
    "\n",
    "#### 3. 圆形掩膜切片并保存切片后的图像\n",
    "mask = np.zeros((size, size), dtype=np.uint8)\n",
    "cx, cy = size // 2, size // 2  # 圆形掩膜中心坐标\n",
    "radius = size // 2  # 圆形半径\n",
    "cv2.circle(mask, (cx, cy), radius, 255, -1)  # 绘制白色圆形掩膜\n",
    "masked_img = cv2.bitwise_and(square_gray, square_gray, mask=mask)  # 掩膜切片\n",
    "cv2.imwrite('masked_cheetah.jpg', masked_img)  # 保存掩膜切片后的图像"
   ]
  },
  {
   "cell_type": "code",
   "execution_count": 2,
   "id": "67c3a50c",
   "metadata": {},
   "outputs": [],
   "source": [
    "# 1. 读取图片并转换为灰度图像\n",
    "img = cv2.imread('cheetah.png')\n",
    "gray = cv2.cvtColor(img, cv2.COLOR_BGR2GRAY)"
   ]
  },
  {
   "cell_type": "code",
   "execution_count": 3,
   "id": "41c79ebf",
   "metadata": {},
   "outputs": [],
   "source": [
    "# 2. 调整灰度图片为正方形 边长设置为 800\n",
    "size = 800\n",
    "square_gray = cv2.resize(img, (size, size))"
   ]
  },
  {
   "cell_type": "code",
   "execution_count": 4,
   "id": "ce90eb68",
   "metadata": {},
   "outputs": [
    {
     "data": {
      "text/plain": [
       "True"
      ]
     },
     "execution_count": 4,
     "metadata": {},
     "output_type": "execute_result"
    }
   ],
   "source": [
    "# 3. 圆形掩膜切片并保存切片后的图像\n",
    "mask = np.zeros((size, size), dtype=np.uint8)\n",
    "cx, cy = size // 2, size // 2  # 圆形掩膜中心坐标\n",
    "radius = size // 2  # 圆形半径\n",
    "cv2.circle(mask, (cx, cy), radius, 255, -1)  # 绘制白色圆形掩膜\n",
    "masked_img = cv2.bitwise_and(square_gray, square_gray, mask=mask)  # 掩膜切片\n",
    "cv2.imwrite('masked_cheetah.jpg', masked_img)  # 保存掩膜切片后的图像"
   ]
  },
  {
   "cell_type": "code",
   "execution_count": 5,
   "id": "140a41f6",
   "metadata": {},
   "outputs": [],
   "source": [
    "# 显示图片\n",
    "cv2.imshow('masked_cheetah', masked_img)\n",
    "cv2.waitKey(0)\n",
    "cv2.destroyAllWindows()"
   ]
  },
  {
   "cell_type": "code",
   "execution_count": null,
   "id": "74aeadd7",
   "metadata": {},
   "outputs": [],
   "source": [
    "# 生成两幅二值图像\n",
    "img1 = np.zeros((100, 100), dtype=np.uint8)\n",
    "img2 = np.zeros((100, 100), dtype=np.uint8)\n",
    "img1[40:60, 40:60] = 255\n",
    "img2[30:70, 30:70] = 255\n",
    "\n",
    "# 按位逻辑与操作\n",
    "dst = cv2.bitwise_and(img1, img2)\n",
    "\n",
    "# 显示结果\n",
    "cv2.imshow('img1', img1)\n",
    "cv2.imshow('img2', img2)\n",
    "cv2.imshow('dst', dst)\n",
    "cv2.waitKey(0)\n",
    "cv2.destroyAllWindows()"
   ]
  },
  {
   "cell_type": "code",
   "execution_count": null,
   "id": "b8f89d05",
   "metadata": {},
   "outputs": [],
   "source": []
  }
 ],
 "metadata": {
  "kernelspec": {
   "display_name": "Python 3 (ipykernel)",
   "language": "python",
   "name": "python3"
  },
  "language_info": {
   "codemirror_mode": {
    "name": "ipython",
    "version": 3
   },
   "file_extension": ".py",
   "mimetype": "text/x-python",
   "name": "python",
   "nbconvert_exporter": "python",
   "pygments_lexer": "ipython3",
   "version": "3.11.2"
  }
 },
 "nbformat": 4,
 "nbformat_minor": 5
}
