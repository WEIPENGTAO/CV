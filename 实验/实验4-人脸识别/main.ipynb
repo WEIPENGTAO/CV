{
 "cells": [
  {
   "cell_type": "code",
   "execution_count": 1,
   "id": "155e761b",
   "metadata": {},
   "outputs": [],
   "source": [
    "import cv2\n",
    "import numpy as np\n",
    "from sklearn.decomposition import PCA\n",
    "from sklearn.neighbors import KNeighborsClassifier\n",
    "from sklearn.metrics import accuracy_score"
   ]
  },
  {
   "cell_type": "code",
   "execution_count": 2,
   "id": "b9d01df2",
   "metadata": {},
   "outputs": [],
   "source": [
    "def load_dataset():\n",
    "    # 读取数据集\n",
    "    data = np.zeros((400, 10304))\n",
    "    label = np.zeros(400)\n",
    "    for i in range(40):\n",
    "        for j in range(10):\n",
    "            # 读取图像，路径为orl_faces/s1/1.bmp\n",
    "            img = cv2.imread('orl_faces/s' + str(i + 1) + '/' + str(j + 1) + '.bmp', cv2.IMREAD_GRAYSCALE)\n",
    "            data[i * 10 + j, :] = img.flatten()\n",
    "            label[i * 10 + j] = i\n",
    "    return data, label"
   ]
  },
  {
   "cell_type": "code",
   "execution_count": 3,
   "id": "79ec573b",
   "metadata": {},
   "outputs": [],
   "source": [
    "def pca_reduce(data, n_components):\n",
    "    pca = PCA(n_components=n_components)  # 降维后的维数\n",
    "    pca.fit(data)  # 训练PCA模型\n",
    "    return pca.transform(data)  # 返回降维后的数据"
   ]
  },
  {
   "cell_type": "code",
   "execution_count": 4,
   "id": "cc6acc50",
   "metadata": {},
   "outputs": [],
   "source": [
    "def knn_classify(train_data, train_label, test_data, k):\n",
    "    knn = KNeighborsClassifier(n_neighbors=k)  # KNN分类器\n",
    "    knn.fit(train_data, train_label)  # 训练KNN分类器\n",
    "    return knn.predict(test_data)  # 返回预测标签"
   ]
  },
  {
   "cell_type": "code",
   "execution_count": 5,
   "id": "82b86c3a",
   "metadata": {},
   "outputs": [],
   "source": [
    "data, label = load_dataset()"
   ]
  },
  {
   "cell_type": "code",
   "execution_count": 6,
   "id": "73dd1c0f",
   "metadata": {},
   "outputs": [],
   "source": [
    "data = pca_reduce(data, n_components=50)"
   ]
  },
  {
   "cell_type": "code",
   "execution_count": 7,
   "id": "4e816ac0",
   "metadata": {},
   "outputs": [],
   "source": [
    "train_data = np.concatenate([data[i:i + 7, :] for i in range(0, 400, 10)])\n",
    "train_label = np.concatenate([label[i:i + 7] for i in range(0, 400, 10)])\n",
    "test_data = np.concatenate([data[i + 7:i + 10, :] for i in range(0, 400, 10)])\n",
    "test_label = np.concatenate([label[i + 7:i + 10] for i in range(0, 400, 10)])"
   ]
  },
  {
   "cell_type": "code",
   "execution_count": 8,
   "id": "ac30af40",
   "metadata": {},
   "outputs": [],
   "source": [
    "pred_label = knn_classify(train_data, train_label, test_data, k=4)"
   ]
  },
  {
   "cell_type": "code",
   "execution_count": 9,
   "id": "f6964f00",
   "metadata": {},
   "outputs": [],
   "source": [
    "accuracy = accuracy_score(test_label, pred_label)"
   ]
  },
  {
   "cell_type": "code",
   "execution_count": 10,
   "id": "1cdd0ce0",
   "metadata": {},
   "outputs": [
    {
     "data": {
      "text/plain": [
       "0.9333333333333333"
      ]
     },
     "execution_count": 10,
     "metadata": {},
     "output_type": "execute_result"
    }
   ],
   "source": [
    "accuracy"
   ]
  },
  {
   "cell_type": "code",
   "execution_count": null,
   "id": "fcbc6f5c",
   "metadata": {},
   "outputs": [],
   "source": []
  }
 ],
 "metadata": {
  "kernelspec": {
   "display_name": "Python 3 (ipykernel)",
   "language": "python",
   "name": "python3"
  },
  "language_info": {
   "codemirror_mode": {
    "name": "ipython",
    "version": 3
   },
   "file_extension": ".py",
   "mimetype": "text/x-python",
   "name": "python",
   "nbconvert_exporter": "python",
   "pygments_lexer": "ipython3",
   "version": "3.11.2"
  }
 },
 "nbformat": 4,
 "nbformat_minor": 5
}
