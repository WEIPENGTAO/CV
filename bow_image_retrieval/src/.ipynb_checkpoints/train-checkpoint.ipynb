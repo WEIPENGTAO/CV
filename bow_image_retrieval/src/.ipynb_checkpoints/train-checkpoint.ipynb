{
 "cells": [
  {
   "cell_type": "code",
   "execution_count": 1,
   "id": "b7e409d4",
   "metadata": {},
   "outputs": [],
   "source": [
    "import os\n",
    "import cv2\n",
    "import numpy as np\n",
    "from sklearn.cluster import KMeans\n",
    "from tqdm import tqdm\n",
    "import joblib"
   ]
  },
  {
   "cell_type": "code",
   "execution_count": 2,
   "id": "889ff8fa",
   "metadata": {},
   "outputs": [],
   "source": [
    "class Model:\n",
    "    def __init__(self, kmeans, bag_of_features, images_path):\n",
    "        self.kmeans = kmeans\n",
    "        self.bag_of_features = bag_of_features\n",
    "        self.num_words = kmeans.n_clusters\n",
    "        self.image_paths = images_path"
   ]
  },
  {
   "cell_type": "code",
   "execution_count": 3,
   "id": "28875ac3",
   "metadata": {},
   "outputs": [],
   "source": [
    "train_path = \"../dataset/oxbuild_images/\"\n",
    "images_list = os.listdir(train_path)"
   ]
  },
  {
   "cell_type": "code",
   "execution_count": 4,
   "id": "4ba13869",
   "metadata": {},
   "outputs": [],
   "source": [
    "images_list = images_list[:1500]"
   ]
  },
  {
   "cell_type": "code",
   "execution_count": 5,
   "id": "c211b0a6",
   "metadata": {},
   "outputs": [
    {
     "data": {
      "text/plain": [
       "1500"
      ]
     },
     "execution_count": 5,
     "metadata": {},
     "output_type": "execute_result"
    }
   ],
   "source": [
    "len(images_list)"
   ]
  },
  {
   "cell_type": "code",
   "execution_count": 6,
   "id": "7cee2774",
   "metadata": {},
   "outputs": [],
   "source": [
    "images_path = [os.path.join(train_path, image_path) for image_path in images_list]"
   ]
  },
  {
   "cell_type": "code",
   "execution_count": 7,
   "id": "28effae9",
   "metadata": {},
   "outputs": [],
   "source": [
    "# 创建特征提取和关键点检测对象\n",
    "sift = cv2.SIFT_create()"
   ]
  },
  {
   "cell_type": "code",
   "execution_count": 8,
   "id": "93f6176a",
   "metadata": {},
   "outputs": [
    {
     "name": "stderr",
     "output_type": "stream",
     "text": [
      "Extracting features: 100%|█████████████████████████████████████████████████████████| 1500/1500 [10:12<00:00,  2.45it/s]\n"
     ]
    }
   ],
   "source": [
    "# 存储所有描述符的列表\n",
    "descriptors_list = []  # 特征描述符\n",
    "\n",
    "# 读取数据集中的所有图片，并提取SIFT特征\n",
    "for image_path in tqdm(images_path, desc='Extracting features'):\n",
    "    img = cv2.imread(image_path)    # 读取图像\n",
    "    gray = cv2.cvtColor(img, cv2.COLOR_BGR2GRAY)    # 转换成灰度图像\n",
    "    gray = cv2.equalizeHist(gray)   # 直方图均衡化\n",
    "    keypoints, descriptors = sift.detectAndCompute(gray, None)   # 提取SIFT特征，返回关键点和描述符\n",
    "    descriptors_list.append(descriptors)   # 将特征添加到列表中"
   ]
  },
  {
   "cell_type": "code",
   "execution_count": 9,
   "id": "edb97c3e",
   "metadata": {},
   "outputs": [],
   "source": [
    "descriptor_list = np.concatenate(descriptors_list)  # 将所有描述符在垂直方向上堆叠成一个numpy数组"
   ]
  },
  {
   "cell_type": "code",
   "execution_count": null,
   "id": "d3a5abb6",
   "metadata": {},
   "outputs": [],
   "source": [
    "# 使用K均值聚类构建词袋模型\n",
    "kmeans = KMeans(n_clusters=100, n_init=10)  # 设置聚类中心数量，n_init表示聚类的初始尝试次数\n",
    "kmeans.fit(descriptor_list)"
   ]
  },
  {
   "cell_type": "code",
   "execution_count": null,
   "id": "d0593500",
   "metadata": {},
   "outputs": [],
   "source": [
    "# 定义存储词袋特征的列表\n",
    "bag_of_features = []\n",
    "\n",
    "# 计算每张图像的词袋特征\n",
    "for descriptors in tqdm(descriptors_list, desc='Calculating bag-of-features'):\n",
    "    labels = kmeans.predict(descriptors)   # 使用K均值聚类将描述符映射到词袋中心\n",
    "    hist, _ = np.histogram(labels, bins=np.arange(101))    # 统计每个词袋中心的频次\n",
    "    hist = hist.astype(float)   # 归一化特征向量\n",
    "    hist /= np.sum(hist)\n",
    "    bag_of_features.append(hist)    # 将特征向量添加到列表中\n",
    "    \n",
    "# 将词袋特征列表转换为numpy数组\n",
    "bag_of_features = np.array(bag_of_features)"
   ]
  },
  {
   "cell_type": "code",
   "execution_count": null,
   "id": "41f1002c",
   "metadata": {},
   "outputs": [],
   "source": []
  }
 ],
 "metadata": {
  "kernelspec": {
   "display_name": "Python 3 (ipykernel)",
   "language": "python",
   "name": "python3"
  },
  "language_info": {
   "codemirror_mode": {
    "name": "ipython",
    "version": 3
   },
   "file_extension": ".py",
   "mimetype": "text/x-python",
   "name": "python",
   "nbconvert_exporter": "python",
   "pygments_lexer": "ipython3",
   "version": "3.11.2"
  }
 },
 "nbformat": 4,
 "nbformat_minor": 5
}
