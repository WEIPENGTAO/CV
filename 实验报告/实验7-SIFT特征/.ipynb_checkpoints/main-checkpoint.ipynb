{
 "cells": [
  {
   "cell_type": "code",
   "execution_count": 1,
   "id": "ed0a85fa",
   "metadata": {},
   "outputs": [],
   "source": [
    "import cv2\n",
    "import numpy as np"
   ]
  },
  {
   "cell_type": "markdown",
   "id": "fee60957",
   "metadata": {},
   "source": [
    "### 1. 输入两张同一场景不同视角拍摄的图片"
   ]
  },
  {
   "cell_type": "code",
   "execution_count": 26,
   "id": "916a34c9",
   "metadata": {},
   "outputs": [],
   "source": [
    "# 加载图像\n",
    "image1 = cv2.imread('./data/image1.jpg')\n",
    "image2 = cv2.imread('./data/image2.jpg')"
   ]
  },
  {
   "cell_type": "markdown",
   "id": "434854d2",
   "metadata": {},
   "source": [
    "```\n",
    "# 获取图像原始大小\n",
    "height, width = image1.shape[:2]\n",
    "\n",
    "# 缩放图像尺寸为原来的0.5倍\n",
    "new_width = int(width * 0.7)\n",
    "new_height = int(height * 0.7)\n",
    "```"
   ]
  },
  {
   "cell_type": "markdown",
   "id": "0b1a4f1d",
   "metadata": {},
   "source": [
    "```\n",
    "image1 = cv2.resize(image1, (new_width, new_height))\n",
    "image2 = cv2.resize(image2, (new_width, new_height))\n",
    "```"
   ]
  },
  {
   "cell_type": "code",
   "execution_count": 3,
   "id": "4e316adf",
   "metadata": {},
   "outputs": [],
   "source": [
    "# 转换成灰度图像\n",
    "gray_image1 = cv2.cvtColor(image1, cv2.COLOR_BGR2GRAY)\n",
    "gray_image2 = cv2.cvtColor(image2, cv2.COLOR_BGR2GRAY)\n",
    "# 直方图均衡化\n",
    "gray_image1 = cv2.equalizeHist(gray_image1)\n",
    "gray_image2 = cv2.equalizeHist(gray_image2)"
   ]
  },
  {
   "cell_type": "code",
   "execution_count": 4,
   "id": "cc03efa7",
   "metadata": {},
   "outputs": [],
   "source": [
    "cv2.imshow(\"original\", np.hstack((image1, image2)))\n",
    "cv2.waitKey(0)\n",
    "cv2.destroyAllWindows()"
   ]
  },
  {
   "cell_type": "markdown",
   "id": "1a2ab010",
   "metadata": {},
   "source": [
    "### 2. 分别提取图片的SIFT特征"
   ]
  },
  {
   "cell_type": "code",
   "execution_count": 5,
   "id": "16058d3d",
   "metadata": {},
   "outputs": [],
   "source": [
    "# 创建SIFT对象\n",
    "sift = cv2.SIFT_create()"
   ]
  },
  {
   "cell_type": "code",
   "execution_count": 6,
   "id": "118a5025",
   "metadata": {},
   "outputs": [],
   "source": [
    "# 检测关键点并计算描述符\n",
    "keypoints1, descriptors1 = sift.detectAndCompute(gray_image1, None)\n",
    "keypoints2, descriptors2 = sift.detectAndCompute(gray_image2, None)"
   ]
  },
  {
   "cell_type": "markdown",
   "id": "042b846e",
   "metadata": {},
   "source": [
    "#### 在图像上绘制关键点\n",
    "```\n",
    "image1_with_keypoints = cv2.drawKeypoints(image1, keypoints1, None, flags=cv2.DRAW_MATCHES_FLAGS_DRAW_RICH_KEYPOINTS)\n",
    "image2_with_keypoints = cv2.drawKeypoints(image2, keypoints2, None, flags=cv2.DRAW_MATCHES_FLAGS_DRAW_RICH_KEYPOINTS)\n",
    "```"
   ]
  },
  {
   "cell_type": "code",
   "execution_count": 7,
   "id": "72b70b21",
   "metadata": {},
   "outputs": [],
   "source": [
    "for kp in keypoints1:\n",
    "    x, y = kp.pt\n",
    "    cv2.circle(image1, (int(x), int(y)), 3, (0, 255, 0), -1)\n",
    "for kp in keypoints2:\n",
    "    x, y = kp.pt\n",
    "    cv2.circle(image2, (int(x), int(y)), 3, (0, 255, 0), -1)"
   ]
  },
  {
   "cell_type": "code",
   "execution_count": 8,
   "id": "8d2039f9",
   "metadata": {},
   "outputs": [],
   "source": [
    "# 显示带有关键点的图像\n",
    "cv2.imshow(\"Image with Keypoints\", np.hstack((image1, image2)))\n",
    "cv2.waitKey(0)\n",
    "cv2.destroyAllWindows()"
   ]
  },
  {
   "cell_type": "markdown",
   "id": "4dbe6204",
   "metadata": {},
   "source": [
    "### 3. 关键点匹配"
   ]
  },
  {
   "cell_type": "code",
   "execution_count": 9,
   "id": "ee7cb048",
   "metadata": {},
   "outputs": [],
   "source": [
    "# 创建FLANN匹配器\n",
    "matcher = cv2.BFMatcher()"
   ]
  },
  {
   "cell_type": "code",
   "execution_count": 10,
   "id": "ea94aebc",
   "metadata": {},
   "outputs": [],
   "source": [
    "# 使用knnMatch进行关键点匹配\n",
    "matches = matcher.knnMatch(descriptors1, descriptors2, k=2)"
   ]
  },
  {
   "cell_type": "code",
   "execution_count": 11,
   "id": "08ac80f5",
   "metadata": {},
   "outputs": [],
   "source": [
    "# 进行筛选，保留优秀的匹配\n",
    "good_matches = []\n",
    "for m, n in matches:\n",
    "    if m.distance < 0.7 * n.distance:\n",
    "        good_matches.append(m)"
   ]
  },
  {
   "cell_type": "markdown",
   "id": "60192363",
   "metadata": {},
   "source": [
    "#### 绘制匹配结果\n",
    "```\n",
    "matching_result = cv2.drawMatches(\n",
    "    image1, keypoints1,\n",
    "    image2, keypoints2,\n",
    "    [m for m, n in matches], None,\n",
    "    flags=cv2.DrawMatchesFlags_NOT_DRAW_SINGLE_POINTS\n",
    ")\n",
    "```"
   ]
  },
  {
   "cell_type": "code",
   "execution_count": 14,
   "id": "99b2684a",
   "metadata": {},
   "outputs": [],
   "source": [
    "matching_result = cv2.drawMatches(\n",
    "    image1, keypoints1,\n",
    "    image2, keypoints2,\n",
    "    [m for m, n in matches], None,\n",
    "    flags=cv2.DrawMatchesFlags_NOT_DRAW_SINGLE_POINTS\n",
    ")"
   ]
  },
  {
   "cell_type": "code",
   "execution_count": 15,
   "id": "fb136025",
   "metadata": {},
   "outputs": [],
   "source": [
    "# 显示匹配结果\n",
    "cv2.imshow(\"Matching Result\", matching_result)\n",
    "cv2.waitKey(0)\n",
    "cv2.destroyAllWindows()"
   ]
  },
  {
   "cell_type": "markdown",
   "id": "3c04f3e2",
   "metadata": {},
   "source": [
    "### 4. 采用RANSAC算法进行提纯"
   ]
  },
  {
   "cell_type": "code",
   "execution_count": 16,
   "id": "25a86386",
   "metadata": {},
   "outputs": [],
   "source": [
    "# RANSAC算法参数\n",
    "ransac_reproj_threshold = 5.0  # 重投影阈值，用于判断内点和外点"
   ]
  },
  {
   "cell_type": "code",
   "execution_count": 17,
   "id": "ac256dbf",
   "metadata": {},
   "outputs": [],
   "source": [
    "# 从匹配对中提取关键点的坐标\n",
    "src_pts = np.float32([keypoints1[m.queryIdx].pt for m in good_matches]).reshape(-1, 1, 2)\n",
    "dst_pts = np.float32([keypoints2[m.trainIdx].pt for m in good_matches]).reshape(-1, 1, 2)"
   ]
  },
  {
   "cell_type": "code",
   "execution_count": 18,
   "id": "e7869fee",
   "metadata": {},
   "outputs": [],
   "source": [
    "# 使用cv2.findHomography函数计算单应性矩阵\n",
    "M, mask = cv2.findHomography(src_pts, dst_pts, cv2.RANSAC, ransac_reproj_threshold)"
   ]
  },
  {
   "cell_type": "code",
   "execution_count": 19,
   "id": "26925663",
   "metadata": {},
   "outputs": [],
   "source": [
    "# 对匹配对进行RANSAC筛选，保留内点\n",
    "good_matches_ransac = [m for m, msk in zip(good_matches, mask) if msk[0] == 1]"
   ]
  },
  {
   "cell_type": "code",
   "execution_count": 20,
   "id": "0a884302",
   "metadata": {},
   "outputs": [],
   "source": [
    "# 绘制匹配结果\n",
    "matching_result = cv2.drawMatches(\n",
    "    image1, keypoints1,\n",
    "    image2, keypoints2,\n",
    "    good_matches_ransac, None,\n",
    "    flags=cv2.DrawMatchesFlags_NOT_DRAW_SINGLE_POINTS\n",
    ")"
   ]
  },
  {
   "cell_type": "code",
   "execution_count": 27,
   "id": "92deba6b",
   "metadata": {},
   "outputs": [],
   "source": [
    "# 获取图像1到图像2的投影映射关系（单应性矩阵）\n",
    "h, w = image1.shape[:2]\n",
    "warped_image1 = cv2.warpPerspective(image1, M, (w, h))"
   ]
  },
  {
   "cell_type": "code",
   "execution_count": 28,
   "id": "7951a6c3",
   "metadata": {},
   "outputs": [],
   "source": [
    "# 将两个图像进行拼接\n",
    "result = np.concatenate((warped_image1, image2), axis=1)"
   ]
  },
  {
   "cell_type": "code",
   "execution_count": 29,
   "id": "d019752a",
   "metadata": {},
   "outputs": [],
   "source": [
    "# 显示拼接结果\n",
    "cv2.imshow(\"Stitched Image\", result)\n",
    "cv2.waitKey(0)\n",
    "cv2.destroyAllWindows()"
   ]
  },
  {
   "cell_type": "code",
   "execution_count": null,
   "id": "9213152c",
   "metadata": {},
   "outputs": [],
   "source": []
  }
 ],
 "metadata": {
  "kernelspec": {
   "display_name": "Python 3 (ipykernel)",
   "language": "python",
   "name": "python3"
  },
  "language_info": {
   "codemirror_mode": {
    "name": "ipython",
    "version": 3
   },
   "file_extension": ".py",
   "mimetype": "text/x-python",
   "name": "python",
   "nbconvert_exporter": "python",
   "pygments_lexer": "ipython3",
   "version": "3.11.2"
  }
 },
 "nbformat": 4,
 "nbformat_minor": 5
}
