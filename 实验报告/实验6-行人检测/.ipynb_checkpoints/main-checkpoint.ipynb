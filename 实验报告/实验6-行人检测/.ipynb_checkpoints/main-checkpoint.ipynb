{
 "cells": [
  {
   "cell_type": "code",
   "execution_count": 1,
   "id": "c38de7f2",
   "metadata": {},
   "outputs": [],
   "source": [
    "import os\n",
    "import numpy as np\n",
    "from sklearn.svm import LinearSVC\n",
    "from tqdm import tqdm\n",
    "from PIL import Image\n",
    "\n",
    "# 初始化HOGDescriptor类\n",
    "from skimage.feature import hog"
   ]
  },
  {
   "cell_type": "code",
   "execution_count": 2,
   "id": "07fd427d",
   "metadata": {},
   "outputs": [],
   "source": [
    "# 获取训练和测试数据\n",
    "train_pos_dir = './INRIADATA/normalized_images/train/pos/'\n",
    "train_neg_dir = './INRIADATA/normalized_images/train/neg/'\n",
    "test_pos_dir = './INRIADATA/normalized_images/test/pos/'\n",
    "test_neg_dir = './INRIADATA/original_images/test/neg/'\n",
    "\n",
    "train_pos_list = os.listdir(train_pos_dir)\n",
    "train_neg_list = os.listdir(train_neg_dir)\n",
    "test_pos_list = os.listdir(test_pos_dir)\n",
    "test_neg_list = os.listdir(test_neg_dir)"
   ]
  },
  {
   "cell_type": "code",
   "execution_count": 3,
   "id": "3c918677",
   "metadata": {},
   "outputs": [],
   "source": [
    "# 提取训练和测试数据的HOG特征\n",
    "train_hog_list = []\n",
    "train_label_list = []\n",
    "test_hog_list = []\n",
    "test_label_list = []\n",
    "\n",
    "img_size = (64, 128)"
   ]
  },
  {
   "cell_type": "code",
   "execution_count": 4,
   "id": "12b564d7",
   "metadata": {},
   "outputs": [
    {
     "name": "stderr",
     "output_type": "stream",
     "text": [
      "Extracting positive train HOG features: 100%|█████████████████████████████████████| 2416/2416 [00:12<00:00, 187.38it/s]\n"
     ]
    }
   ],
   "source": [
    "for img_path in tqdm(train_pos_list, desc='Extracting positive train HOG features'):\n",
    "    img = Image.open(os.path.join(train_pos_dir, img_path)).convert('L')\n",
    "    img = img.resize(img_size)\n",
    "    hog_feature = hog(img, feature_vector=True)\n",
    "    train_hog_list.append(hog_feature)\n",
    "    train_label_list.append(1)"
   ]
  },
  {
   "cell_type": "code",
   "execution_count": 5,
   "id": "7848b261",
   "metadata": {},
   "outputs": [
    {
     "name": "stderr",
     "output_type": "stream",
     "text": [
      "Extracting negative train HOG features: 100%|██████████████████████████████████████| 1218/1218 [00:12<00:00, 99.43it/s]\n"
     ]
    }
   ],
   "source": [
    "for img_path in tqdm(train_neg_list, desc='Extracting negative train HOG features'):\n",
    "    img = Image.open(os.path.join(train_neg_dir, img_path)).convert('L')\n",
    "    img = img.resize(img_size)\n",
    "    hog_feature = hog(img, feature_vector=True)\n",
    "    train_hog_list.append(hog_feature)\n",
    "    train_label_list.append(0)"
   ]
  },
  {
   "cell_type": "code",
   "execution_count": 6,
   "id": "402c9f1e",
   "metadata": {},
   "outputs": [
    {
     "name": "stderr",
     "output_type": "stream",
     "text": [
      "Extracting positive test HOG features: 100%|██████████████████████████████████████| 1126/1126 [00:05<00:00, 193.59it/s]\n"
     ]
    }
   ],
   "source": [
    "for img_path in tqdm(test_pos_list, desc='Extracting positive test HOG features'):\n",
    "    img = Image.open(os.path.join(test_pos_dir, img_path)).convert('L')\n",
    "    img = img.resize(img_size)\n",
    "    hog_feature = hog(img, feature_vector=True)\n",
    "    test_hog_list.append(hog_feature)\n",
    "    test_label_list.append(1)"
   ]
  },
  {
   "cell_type": "code",
   "execution_count": 7,
   "id": "862eafa5",
   "metadata": {},
   "outputs": [
    {
     "name": "stderr",
     "output_type": "stream",
     "text": [
      "Extracting negative test HOG features: 100%|█████████████████████████████████████████| 453/453 [00:04<00:00, 99.69it/s]\n"
     ]
    }
   ],
   "source": [
    "for img_path in tqdm(test_neg_list, desc='Extracting negative test HOG features'):\n",
    "    img = Image.open(os.path.join(test_neg_dir, img_path)).convert('L')\n",
    "    img = img.resize(img_size)\n",
    "    hog_feature = hog(img, feature_vector=True)\n",
    "    test_hog_list.append(hog_feature)\n",
    "    test_label_list.append(0)"
   ]
  },
  {
   "cell_type": "code",
   "execution_count": 8,
   "id": "2f8b6d2b",
   "metadata": {},
   "outputs": [
    {
     "data": {
      "text/html": [
       "<style>#sk-container-id-1 {color: black;background-color: white;}#sk-container-id-1 pre{padding: 0;}#sk-container-id-1 div.sk-toggleable {background-color: white;}#sk-container-id-1 label.sk-toggleable__label {cursor: pointer;display: block;width: 100%;margin-bottom: 0;padding: 0.3em;box-sizing: border-box;text-align: center;}#sk-container-id-1 label.sk-toggleable__label-arrow:before {content: \"▸\";float: left;margin-right: 0.25em;color: #696969;}#sk-container-id-1 label.sk-toggleable__label-arrow:hover:before {color: black;}#sk-container-id-1 div.sk-estimator:hover label.sk-toggleable__label-arrow:before {color: black;}#sk-container-id-1 div.sk-toggleable__content {max-height: 0;max-width: 0;overflow: hidden;text-align: left;background-color: #f0f8ff;}#sk-container-id-1 div.sk-toggleable__content pre {margin: 0.2em;color: black;border-radius: 0.25em;background-color: #f0f8ff;}#sk-container-id-1 input.sk-toggleable__control:checked~div.sk-toggleable__content {max-height: 200px;max-width: 100%;overflow: auto;}#sk-container-id-1 input.sk-toggleable__control:checked~label.sk-toggleable__label-arrow:before {content: \"▾\";}#sk-container-id-1 div.sk-estimator input.sk-toggleable__control:checked~label.sk-toggleable__label {background-color: #d4ebff;}#sk-container-id-1 div.sk-label input.sk-toggleable__control:checked~label.sk-toggleable__label {background-color: #d4ebff;}#sk-container-id-1 input.sk-hidden--visually {border: 0;clip: rect(1px 1px 1px 1px);clip: rect(1px, 1px, 1px, 1px);height: 1px;margin: -1px;overflow: hidden;padding: 0;position: absolute;width: 1px;}#sk-container-id-1 div.sk-estimator {font-family: monospace;background-color: #f0f8ff;border: 1px dotted black;border-radius: 0.25em;box-sizing: border-box;margin-bottom: 0.5em;}#sk-container-id-1 div.sk-estimator:hover {background-color: #d4ebff;}#sk-container-id-1 div.sk-parallel-item::after {content: \"\";width: 100%;border-bottom: 1px solid gray;flex-grow: 1;}#sk-container-id-1 div.sk-label:hover label.sk-toggleable__label {background-color: #d4ebff;}#sk-container-id-1 div.sk-serial::before {content: \"\";position: absolute;border-left: 1px solid gray;box-sizing: border-box;top: 0;bottom: 0;left: 50%;z-index: 0;}#sk-container-id-1 div.sk-serial {display: flex;flex-direction: column;align-items: center;background-color: white;padding-right: 0.2em;padding-left: 0.2em;position: relative;}#sk-container-id-1 div.sk-item {position: relative;z-index: 1;}#sk-container-id-1 div.sk-parallel {display: flex;align-items: stretch;justify-content: center;background-color: white;position: relative;}#sk-container-id-1 div.sk-item::before, #sk-container-id-1 div.sk-parallel-item::before {content: \"\";position: absolute;border-left: 1px solid gray;box-sizing: border-box;top: 0;bottom: 0;left: 50%;z-index: -1;}#sk-container-id-1 div.sk-parallel-item {display: flex;flex-direction: column;z-index: 1;position: relative;background-color: white;}#sk-container-id-1 div.sk-parallel-item:first-child::after {align-self: flex-end;width: 50%;}#sk-container-id-1 div.sk-parallel-item:last-child::after {align-self: flex-start;width: 50%;}#sk-container-id-1 div.sk-parallel-item:only-child::after {width: 0;}#sk-container-id-1 div.sk-dashed-wrapped {border: 1px dashed gray;margin: 0 0.4em 0.5em 0.4em;box-sizing: border-box;padding-bottom: 0.4em;background-color: white;}#sk-container-id-1 div.sk-label label {font-family: monospace;font-weight: bold;display: inline-block;line-height: 1.2em;}#sk-container-id-1 div.sk-label-container {text-align: center;}#sk-container-id-1 div.sk-container {/* jupyter's `normalize.less` sets `[hidden] { display: none; }` but bootstrap.min.css set `[hidden] { display: none !important; }` so we also need the `!important` here to be able to override the default hidden behavior on the sphinx rendered scikit-learn.org. See: https://github.com/scikit-learn/scikit-learn/issues/21755 */display: inline-block !important;position: relative;}#sk-container-id-1 div.sk-text-repr-fallback {display: none;}</style><div id=\"sk-container-id-1\" class=\"sk-top-container\"><div class=\"sk-text-repr-fallback\"><pre>LinearSVC()</pre><b>In a Jupyter environment, please rerun this cell to show the HTML representation or trust the notebook. <br />On GitHub, the HTML representation is unable to render, please try loading this page with nbviewer.org.</b></div><div class=\"sk-container\" hidden><div class=\"sk-item\"><div class=\"sk-estimator sk-toggleable\"><input class=\"sk-toggleable__control sk-hidden--visually\" id=\"sk-estimator-id-1\" type=\"checkbox\" checked><label for=\"sk-estimator-id-1\" class=\"sk-toggleable__label sk-toggleable__label-arrow\">LinearSVC</label><div class=\"sk-toggleable__content\"><pre>LinearSVC()</pre></div></div></div></div></div>"
      ],
      "text/plain": [
       "LinearSVC()"
      ]
     },
     "execution_count": 8,
     "metadata": {},
     "output_type": "execute_result"
    }
   ],
   "source": [
    "# 训练 SVM 分类器\n",
    "clf = LinearSVC()\n",
    "clf.fit(train_hog_list, train_label_list)"
   ]
  },
  {
   "cell_type": "code",
   "execution_count": 9,
   "id": "58609f22",
   "metadata": {},
   "outputs": [],
   "source": [
    "result = clf.predict(test_hog_list)"
   ]
  },
  {
   "cell_type": "code",
   "execution_count": 10,
   "id": "d43aa5aa",
   "metadata": {},
   "outputs": [
    {
     "name": "stdout",
     "output_type": "stream",
     "text": [
      "Accuracy: 0.9100696643445219\n"
     ]
    }
   ],
   "source": [
    "accuracy = np.mean(result == test_label_list)\n",
    "print('Accuracy:', accuracy)"
   ]
  },
  {
   "cell_type": "code",
   "execution_count": null,
   "id": "5ad0165b",
   "metadata": {},
   "outputs": [],
   "source": []
  }
 ],
 "metadata": {
  "kernelspec": {
   "display_name": "Python 3 (ipykernel)",
   "language": "python",
   "name": "python3"
  },
  "language_info": {
   "codemirror_mode": {
    "name": "ipython",
    "version": 3
   },
   "file_extension": ".py",
   "mimetype": "text/x-python",
   "name": "python",
   "nbconvert_exporter": "python",
   "pygments_lexer": "ipython3",
   "version": "3.11.2"
  }
 },
 "nbformat": 4,
 "nbformat_minor": 5
}
