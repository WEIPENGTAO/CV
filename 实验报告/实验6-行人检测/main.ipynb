{
 "cells": [
  {
   "cell_type": "code",
   "execution_count": 1,
   "id": "f618e086",
   "metadata": {},
   "outputs": [],
   "source": [
    "import cv2\n",
    "import numpy as np\n",
    "import os\n",
    "from PIL import Image\n",
    "from matplotlib import pyplot as plt\n",
    "from sklearn.metrics import roc_curve, auc"
   ]
  },
  {
   "cell_type": "code",
   "execution_count": 2,
   "id": "831be069",
   "metadata": {},
   "outputs": [],
   "source": [
    "def load_data(dir_path):\n",
    "    \"\"\"\n",
    "    读取图片\n",
    "    :param dir_path: 图片路径\n",
    "    :return: 图片列表\n",
    "    \"\"\"\n",
    "    img_list = []\n",
    "    for img_name in os.listdir(dir_path):\n",
    "        img = Image.open(os.path.join(dir_path, img_name)).convert('RGB')\n",
    "        img = img.resize((64, 128))\n",
    "        img = cv2.cvtColor(np.asarray(img), cv2.COLOR_RGB2BGR)  # 转成 OpenCV 格式\n",
    "        img_list.append(img)\n",
    "    return img_list"
   ]
  },
  {
   "cell_type": "code",
   "execution_count": 3,
   "id": "59b3779b",
   "metadata": {},
   "outputs": [],
   "source": [
    "def compute_hog(img):\n",
    "    \"\"\"\n",
    "    计算 HOG 特征\n",
    "    :param img: 图片\n",
    "    :return: HOG 特征\n",
    "    \"\"\"\n",
    "    img = cv2.cvtColor(img, cv2.COLOR_BGR2GRAY)  # 转成灰度图\n",
    "    if (img.max() - img.min()) != 0:    # 如果图像不全是黑色\n",
    "        img = (img - img.min()) / (img.max() - img.min())   # 归一化\n",
    "        img *= 255\n",
    "        img = img.astype(np.uint8)  # 转成 uint8 格式\n",
    "    hog = cv2.HOGDescriptor(_winSize=(64, 128), _blockSize=(16, 16), _blockStride=(8, 8), _cellSize=(8, 8), _nbins=9)\n",
    "    hog_feature = hog.compute(img)  # 提取HOG特征\n",
    "    return hog_feature"
   ]
  },
  {
   "cell_type": "code",
   "execution_count": 4,
   "id": "5d5fd650",
   "metadata": {},
   "outputs": [],
   "source": [
    "def train_svm_classifier(train_hog_list, train_label_list):\n",
    "    \"\"\"\n",
    "    训练 SVM 分类器\n",
    "    :param train_hog_list: 训练集 HOG 特征列表\n",
    "    :param train_label_list: 训练集标签列表\n",
    "    :return: SVM 分类器\n",
    "    \"\"\"\n",
    "    svm_classifier = cv2.ml.SVM_create()    # 创建 SVM 分类器\n",
    "    svm_classifier.setKernel(cv2.ml.SVM_LINEAR)\n",
    "    svm_classifier.setType(cv2.ml.SVM_C_SVC)    # 设置 SVM 类型为 C_SVC\n",
    "    svm_classifier.setC(0.01)   # 设置惩罚系数 C\n",
    "    svm_classifier.train(np.array(train_hog_list), cv2.ml.ROW_SAMPLE, np.array(train_label_list))   # 训练 SVM 分类器\n",
    "    return svm_classifier"
   ]
  },
  {
   "cell_type": "code",
   "execution_count": 5,
   "id": "f43c3cd7",
   "metadata": {},
   "outputs": [],
   "source": [
    "def test_svm_classifier(svm_classifier, test_hog_list, test_label_list):\n",
    "    \"\"\"\n",
    "    测试 SVM 分类器\n",
    "    :param svm_classifier: SVM 分类器\n",
    "    :param test_hog_list: 测试集 HOG 特征列表\n",
    "    :param test_label_list: 测试集标签列表\n",
    "    :return: 准确率\n",
    "    \"\"\"\n",
    "    result = svm_classifier.predict(np.array(test_hog_list))[1].ravel()\n",
    "    accuracy = np.mean(result == test_label_list)\n",
    "    return accuracy"
   ]
  },
  {
   "cell_type": "code",
   "execution_count": 12,
   "id": "41e6fd7a",
   "metadata": {},
   "outputs": [],
   "source": [
    "train_pos_dir = './INRIADATA/normalized_images/train/pos/'\n",
    "train_neg_dir = './INRIADATA/normalized_images/train/neg/'\n",
    "test_pos_dir = './INRIADATA/normalized_images/test/pos/'"
   ]
  },
  {
   "cell_type": "code",
   "execution_count": 7,
   "id": "6e9b6500",
   "metadata": {},
   "outputs": [],
   "source": [
    "train_pos_hog_list = []\n",
    "train_pos_label_list = []\n",
    "for img_name in os.listdir(train_pos_dir):\n",
    "    img = Image.open(os.path.join(train_pos_dir, img_name)).convert('RGB')\n",
    "    # 裁剪出中间 64*128 大小的图片\n",
    "    img = img.crop((int(img.size[0]/2-32), int(img.size[1]/2-64), int(img.size[0]/2+32), int(img.size[1]/2+64)))\n",
    "    img = cv2.cvtColor(np.asarray(img), cv2.COLOR_RGB2BGR)\n",
    "    train_pos_hog_list.append(compute_hog(img))\n",
    "    train_pos_label_list.append(1)"
   ]
  },
  {
   "cell_type": "code",
   "execution_count": 8,
   "id": "ddd6d1e2",
   "metadata": {},
   "outputs": [],
   "source": [
    "# 训练集负样本\n",
    "train_neg_hog_list = []\n",
    "train_neg_label_list = []\n",
    "for img_name in os.listdir(train_neg_dir):\n",
    "    img = Image.open(os.path.join(train_neg_dir, img_name)).convert('RGB')\n",
    "    img = cv2.cvtColor(np.asarray(img), cv2.COLOR_RGB2BGR)\n",
    "    # 在负样本中随机裁剪出 64*128 大小的图片\n",
    "    for i in range(10):\n",
    "        x = np.random.randint(0, img.shape[0] - 128)\n",
    "        y = np.random.randint(0, img.shape[1] - 64)\n",
    "        img_crop = img[x:x+128, y:y+64]\n",
    "        train_neg_hog_list.append(compute_hog(img_crop))\n",
    "        train_neg_label_list.append(-1)"
   ]
  },
  {
   "cell_type": "code",
   "execution_count": 9,
   "id": "426f7cd8",
   "metadata": {},
   "outputs": [],
   "source": [
    "# 训练 SVM 分类器\n",
    "train_hog_list = train_pos_hog_list + train_neg_hog_list\n",
    "train_label_list = train_pos_label_list + train_neg_label_list\n",
    "svm_classifier = train_svm_classifier(train_hog_list, train_label_list)"
   ]
  },
  {
   "cell_type": "code",
   "execution_count": 13,
   "id": "6969817d",
   "metadata": {},
   "outputs": [],
   "source": [
    "# 测试集正样本\n",
    "test_hog_list = []\n",
    "test_label_list = []\n",
    "for img_name in os.listdir(test_pos_dir):\n",
    "    img = Image.open(os.path.join(test_pos_dir, img_name)).convert('RGB')\n",
    "    img = cv2.cvtColor(np.asarray(img), cv2.COLOR_RGB2BGR)\n",
    "    # 对测试集正样本进行滑动窗口处理\n",
    "    for i in range(0, img.shape[0]-128+1, 32):\n",
    "        for j in range(0, img.shape[1]-64+1, 32):\n",
    "            img_crop = img[i:i+128, j:j+64]\n",
    "            test_hog_list.append(compute_hog(img_crop))\n",
    "            test_label_list.append(1)"
   ]
  },
  {
   "cell_type": "code",
   "execution_count": 14,
   "id": "bf4f145c",
   "metadata": {},
   "outputs": [
    {
     "data": {
      "text/plain": [
       "0.849911190053286"
      ]
     },
     "execution_count": 14,
     "metadata": {},
     "output_type": "execute_result"
    }
   ],
   "source": [
    "# 测试 SVM 分类器\n",
    "accuracy = test_svm_classifier(svm_classifier, test_hog_list, test_label_list)\n",
    "accuracy"
   ]
  },
  {
   "cell_type": "code",
   "execution_count": 15,
   "id": "53c6654e",
   "metadata": {},
   "outputs": [
    {
     "name": "stderr",
     "output_type": "stream",
     "text": [
      "D:\\wpt\\AppData\\Local\\Programs\\Python\\Python3.11.2\\Lib\\site-packages\\sklearn\\metrics\\_ranking.py:1020: UndefinedMetricWarning: No negative samples in y_true, false positive value should be meaningless\n",
      "  warnings.warn(\n"
     ]
    },
    {
     "data": {
      "image/png": "[encoded data removed]",
      "text/plain": [
       "<Figure size 640x480 with 1 Axes>"
      ]
     },
     "metadata": {},
     "output_type": "display_data"
    }
   ],
   "source": [
    "# 绘制 ROC 曲线\n",
    "result = svm_classifier.predict(np.array(test_hog_list))[1].ravel()\n",
    "fpr, tpr, thresholds = roc_curve(test_label_list, result)\n",
    "roc_auc = auc(fpr, tpr)\n",
    "plt.figure()\n",
    "plt.plot(fpr, tpr, color='darkorange', lw=2, label='ROC curve (area = %0.4f)' % roc_auc)\n",
    "plt.plot([0, 1], [0, 1], color='navy', lw=2, linestyle='--')  # 绘制 y=x 对角线\n",
    "plt.xlim([0.0, 1.0])\n",
    "plt.ylim([0.0, 1.05])\n",
    "plt.xlabel('False Positive Rate')  # 假正例率\n",
    "plt.ylabel('True Positive Rate')  # 真正例率\n",
    "plt.title('Receiver operating characteristic example')\n",
    "plt.legend(loc=\"lower right\")\n",
    "plt.show()"
   ]
  },
  {
   "cell_type": "code",
   "execution_count": null,
   "id": "90790212",
   "metadata": {},
   "outputs": [],
   "source": []
  }
 ],
 "metadata": {
  "kernelspec": {
   "display_name": "Python 3 (ipykernel)",
   "language": "python",
   "name": "python3"
  },
  "language_info": {
   "codemirror_mode": {
    "name": "ipython",
    "version": 3
   },
   "file_extension": ".py",
   "mimetype": "text/x-python",
   "name": "python",
   "nbconvert_exporter": "python",
   "pygments_lexer": "ipython3",
   "version": "3.11.2"
  }
 },
 "nbformat": 4,
 "nbformat_minor": 5
}
