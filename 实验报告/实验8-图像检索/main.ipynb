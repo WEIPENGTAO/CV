{
 "cells": [
  {
   "cell_type": "code",
   "execution_count": 1,
   "id": "f9853e8f",
   "metadata": {},
   "outputs": [],
   "source": [
    "import cv2\n",
    "import numpy as np\n",
    "import os\n",
    "from tqdm import tqdm"
   ]
  },
  {
   "cell_type": "code",
   "execution_count": 2,
   "id": "53fe221e",
   "metadata": {},
   "outputs": [],
   "source": [
    "# 定义数据集路径\n",
    "dataset_path = './test_data'\n",
    "\n",
    "# 初始化SIFT特征提取器\n",
    "sift = cv2.SIFT_create()\n",
    "\n",
    "# 定义存储特征的列表\n",
    "features = []"
   ]
  },
  {
   "cell_type": "code",
   "execution_count": 3,
   "id": "c39b88d4",
   "metadata": {},
   "outputs": [
    {
     "name": "stderr",
     "output_type": "stream",
     "text": [
      "Extracting features: 100%|███████████████████████████████████████████████████████████| 114/114 [00:38<00:00,  2.96it/s]\n"
     ]
    }
   ],
   "source": [
    "# 读取数据集中的所有图片，并提取SIFT特征\n",
    "for file_name in tqdm(os.listdir(dataset_path), desc='Extracting features'):\n",
    "    # 读取图像\n",
    "    img = cv2.imread(os.path.join(dataset_path, file_name))\n",
    "    # 转换成灰度图像\n",
    "    gray = cv2.cvtColor(img, cv2.COLOR_BGR2GRAY)\n",
    "    gray = cv2.equalizeHist(gray)\n",
    "    # 提取SIFT特征，返回关键点和描述符\n",
    "    keypoints, descriptor = sift.detectAndCompute(gray, None)\n",
    "    # 将特征添加到列表中\n",
    "    features.append(descriptor)"
   ]
  },
  {
   "cell_type": "code",
   "execution_count": 4,
   "id": "61b70d45",
   "metadata": {},
   "outputs": [
    {
     "data": {
      "text/plain": [
       "114"
      ]
     },
     "execution_count": 4,
     "metadata": {},
     "output_type": "execute_result"
    }
   ],
   "source": [
    "len(features)"
   ]
  },
  {
   "cell_type": "code",
   "execution_count": 5,
   "id": "1b760f62",
   "metadata": {},
   "outputs": [
    {
     "data": {
      "text/plain": [
       "array([[ 8., 18., 92., ..., 17., 13., 15.],\n",
       "       [ 0.,  0.,  0., ...,  5.,  4., 95.],\n",
       "       [26., 18.,  3., ..., 11., 19., 60.],\n",
       "       ...,\n",
       "       [ 6., 86., 43., ...,  3.,  8., 12.],\n",
       "       [ 1.,  0.,  9., ...,  0.,  0., 90.],\n",
       "       [15., 19.,  5., ...,  0.,  0., 12.]], dtype=float32)"
      ]
     },
     "execution_count": 5,
     "metadata": {},
     "output_type": "execute_result"
    }
   ],
   "source": [
    "features[108]"
   ]
  },
  {
   "cell_type": "code",
   "execution_count": 6,
   "id": "7495ca3f",
   "metadata": {},
   "outputs": [],
   "source": [
    "# 读取查询图像，并提取SIFT特征\n",
    "query_img = cv2.imread('./ashmolean_000000.jpg')\n",
    "query_gray = cv2.cvtColor(query_img, cv2.COLOR_BGR2GRAY)\n",
    "query_keypoints, query_descriptor = sift.detectAndCompute(query_gray, None)"
   ]
  },
  {
   "cell_type": "code",
   "execution_count": 7,
   "id": "a32f32d4",
   "metadata": {},
   "outputs": [
    {
     "data": {
      "text/plain": [
       "3469"
      ]
     },
     "execution_count": 7,
     "metadata": {},
     "output_type": "execute_result"
    }
   ],
   "source": [
    "len(query_keypoints)"
   ]
  },
  {
   "cell_type": "code",
   "execution_count": 8,
   "id": "a6da21bc",
   "metadata": {},
   "outputs": [],
   "source": [
    "# 创建FLANN匹配器\n",
    "flann = cv2.FlannBasedMatcher({'algorithm': 0, 'trees': 5}, {'checks': 50})"
   ]
  },
  {
   "cell_type": "code",
   "execution_count": 9,
   "id": "3c8fb095",
   "metadata": {},
   "outputs": [
    {
     "name": "stderr",
     "output_type": "stream",
     "text": [
      "Calculating distances: 100%|█████████████████████████████████████████████████████████| 114/114 [04:25<00:00,  2.33s/it]\n"
     ]
    }
   ],
   "source": [
    "# 计算查询图像与数据集中所有图像的SIFT特征距离\n",
    "distances = []\n",
    "for feature in tqdm(features, desc='Calculating distances'):\n",
    "    matches = flann.knnMatch(query_descriptor, feature, k=2)\n",
    "    good_matches = []\n",
    "    for m, n in matches:\n",
    "        if m.distance < 0.7 * n.distance:\n",
    "            good_matches.append(m)\n",
    "    # 如果没有匹配的特征，则距离为1\n",
    "    distance = 1\n",
    "    if len(good_matches) != 0:\n",
    "        distance = 1 - len(good_matches) / len(matches)\n",
    "    distances.append(distance)"
   ]
  },
  {
   "cell_type": "code",
   "execution_count": 10,
   "id": "f2fc2411",
   "metadata": {},
   "outputs": [
    {
     "data": {
      "text/plain": [
       "[0.4531565292591525,\n",
       " 0.9645430959930816,\n",
       " 0.9933698472182185,\n",
       " 0.996829057365235,\n",
       " 0.9870279619486884,\n",
       " 0.9965407898529836,\n",
       " 0.9910637071202075,\n",
       " 0.9939463822427212,\n",
       " 0.9166906889593542,\n",
       " 0.9899106370712021,\n",
       " 0.9971173248774863,\n",
       " 0.9766503315076391,\n",
       " 0.996829057365235,\n",
       " 0.9930815797059671,\n",
       " 0.9873162294609398,\n",
       " 0.9556068031132892,\n",
       " 0.9798212741424042,\n",
       " 0.9962525223407322,\n",
       " 0.9887575670221966,\n",
       " 0.9982703949264918,\n",
       " 0.9971173248774863,\n",
       " 0.9890458345344479,\n",
       " 0.9939463822427212,\n",
       " 0.9965407898529836,\n",
       " 0.9916402421447102,\n",
       " 0.9956759873162294,\n",
       " 0.997693859901989,\n",
       " 0.9965407898529836,\n",
       " 0.986739694436437,\n",
       " 0.994522917267224,\n",
       " 0.9850100893629288,\n",
       " 0.9971173248774863,\n",
       " 0.9919285096569617,\n",
       " 0.9953877198039781,\n",
       " 0.9850100893629288,\n",
       " 0.9982703949264918,\n",
       " 0.9956759873162294,\n",
       " 0.9974055923897377,\n",
       " 0.9927933121937158,\n",
       " 0.9861631594119342,\n",
       " 0.9979821274142404,\n",
       " 0.994522917267224,\n",
       " 0.9711732487748631,\n",
       " 0.996829057365235,\n",
       " 0.9922167771692131,\n",
       " 0.9925050446814644,\n",
       " 0.9962525223407322,\n",
       " 0.9985586624387431,\n",
       " 0.9953877198039781,\n",
       " 0.9959642548284808,\n",
       " 0.994522917267224,\n",
       " 0.9936581147304698,\n",
       " 0.9965407898529836,\n",
       " 0.9962525223407322,\n",
       " 0.9956759873162294,\n",
       " 0.9974055923897377,\n",
       " 0.994522917267224,\n",
       " 0.996829057365235,\n",
       " 0.9950994522917267,\n",
       " 0.9919285096569617,\n",
       " 0.9974055923897377,\n",
       " 0.9974055923897377,\n",
       " 0.9988469299509946,\n",
       " 0.9956759873162294,\n",
       " 0.9988469299509946,\n",
       " 0.9971173248774863,\n",
       " 0.9979821274142404,\n",
       " 0.9982703949264918,\n",
       " 0.9979821274142404,\n",
       " 0.9792447391179014,\n",
       " 0.9948111847794754,\n",
       " 0.9991351974632459,\n",
       " 0.996829057365235,\n",
       " 0.9948111847794754,\n",
       " 0.9959642548284808,\n",
       " 0.9950994522917267,\n",
       " 0.9939463822427212,\n",
       " 0.9965407898529836,\n",
       " 0.9979821274142404,\n",
       " 0.9962525223407322,\n",
       " 0.9959642548284808,\n",
       " 0.9965407898529836,\n",
       " 0.9959642548284808,\n",
       " 0.996829057365235,\n",
       " 0.9953877198039781,\n",
       " 0.9971173248774863,\n",
       " 0.9959642548284808,\n",
       " 0.996829057365235,\n",
       " 0.9925050446814644,\n",
       " 0.9948111847794754,\n",
       " 0.9982703949264918,\n",
       " 0.9962525223407322,\n",
       " 0.9962525223407322,\n",
       " 0.9950994522917267,\n",
       " 0.9899106370712021,\n",
       " 0.9948111847794754,\n",
       " 0.9818391467281637,\n",
       " 0.9930815797059671,\n",
       " 0.9965407898529836,\n",
       " 0.9922167771692131,\n",
       " 0.9936581147304698,\n",
       " 0.9919285096569617,\n",
       " 0.996829057365235,\n",
       " 0.9890458345344479,\n",
       " 0.9965407898529836,\n",
       " 0.9982703949264918,\n",
       " 0.9953877198039781,\n",
       " 0.9948111847794754,\n",
       " 0.996829057365235,\n",
       " 0.9925050446814644,\n",
       " 0.996829057365235,\n",
       " 0.994522917267224,\n",
       " 0.9971173248774863,\n",
       " 0.9974055923897377]"
      ]
     },
     "execution_count": 10,
     "metadata": {},
     "output_type": "execute_result"
    }
   ],
   "source": [
    "distances"
   ]
  },
  {
   "cell_type": "code",
   "execution_count": 11,
   "id": "a5962224",
   "metadata": {},
   "outputs": [
    {
     "data": {
      "text/plain": [
       "array([  0,   8,  15,   1,  42,  11,  69,  16,  96,  30,  34,  39,  28,\n",
       "         4,  14,  18, 103,  21,  94,   9,   6,  24,  59,  32, 101,  44,\n",
       "        99,  45,  88, 109,  38,  97,  13,   2, 100,  51,   7,  76,  22,\n",
       "        50, 111,  56,  29,  41,  70,  73,  95,  89, 107,  93,  75,  58,\n",
       "        48, 106,  33,  84,  63,  25,  36,  54,  80,  82,  86,  49,  74,\n",
       "        91,  92,  79,  17,  46,  53,  81,  23,   5,  52,  27,  77,  98,\n",
       "       104,  57,  43,   3, 110,  87,  72, 102,  83,  12, 108,  10,  65,\n",
       "       112,  20,  31,  85, 113,  37,  55,  60,  61,  26,  66,  40,  68,\n",
       "        78,  90, 105,  19,  35,  67,  47,  64,  62,  71], dtype=int64)"
      ]
     },
     "execution_count": 11,
     "metadata": {},
     "output_type": "execute_result"
    }
   ],
   "source": [
    "np.argsort(distances)"
   ]
  },
  {
   "cell_type": "code",
   "execution_count": 14,
   "id": "6c1639e1",
   "metadata": {},
   "outputs": [],
   "source": [
    "indices = np.argsort(distances)[:5]"
   ]
  },
  {
   "cell_type": "code",
   "execution_count": 16,
   "id": "36171c0f",
   "metadata": {},
   "outputs": [],
   "source": [
    "# 显示结果，将5张图显示在不同的窗口\n",
    "for index in indices:\n",
    "    img = cv2.imread(os.path.join(dataset_path, os.listdir(dataset_path)[index]))\n",
    "    cv2.imshow('result', img)\n",
    "    cv2.waitKey(0)\n",
    "\n",
    "cv2.destroyAllWindows()"
   ]
  },
  {
   "cell_type": "code",
   "execution_count": 19,
   "id": "5e4a814f",
   "metadata": {},
   "outputs": [],
   "source": [
    "# 目标图像的大小\n",
    "target_size = (300, 300)\n",
    "\n",
    "# 创建一个大画布，用于显示多张图像\n",
    "canvas = np.zeros((target_size[1], target_size[0] * len(indices), 3), dtype=np.uint8)\n",
    "\n",
    "# 缩放并拼接图像到大画布上\n",
    "for i, index in enumerate(indices):\n",
    "    img = cv2.imread(os.path.join(dataset_path, os.listdir(dataset_path)[index]))\n",
    "    img = cv2.resize(img, target_size)  # 缩放图像到目标大小\n",
    "    canvas[:, i * target_size[0] : (i + 1) * target_size[0], :] = img\n",
    "\n",
    "# 显示拼接后的图像\n",
    "cv2.imshow('Results', canvas)\n",
    "cv2.waitKey(0)\n",
    "cv2.destroyAllWindows()\n"
   ]
  },
  {
   "cell_type": "code",
   "execution_count": null,
   "id": "49b6d5ba",
   "metadata": {},
   "outputs": [],
   "source": []
  }
 ],
 "metadata": {
  "kernelspec": {
   "display_name": "Python 3 (ipykernel)",
   "language": "python",
   "name": "python3"
  },
  "language_info": {
   "codemirror_mode": {
    "name": "ipython",
    "version": 3
   },
   "file_extension": ".py",
   "mimetype": "text/x-python",
   "name": "python",
   "nbconvert_exporter": "python",
   "pygments_lexer": "ipython3",
   "version": "3.11.2"
  }
 },
 "nbformat": 4,
 "nbformat_minor": 5
}
