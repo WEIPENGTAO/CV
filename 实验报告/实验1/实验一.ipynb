{
 "cells": [
  {
   "cell_type": "code",
   "execution_count": 1,
   "id": "fea9436b",
   "metadata": {},
   "outputs": [],
   "source": [
    "from PIL import Image, ImageDraw, ImageFont\n",
    "import cv2\n",
    "import numpy as np"
   ]
  },
  {
   "cell_type": "code",
   "execution_count": 2,
   "id": "5479855c",
   "metadata": {},
   "outputs": [],
   "source": [
    "# 使用OpenCV读取图片\n",
    "img = cv2.imread(\"image.jpg\")\n",
    "\n",
    "# 将OpenCV图像转换为PIL图像\n",
    "img_pil = Image.fromarray(cv2.cvtColor(img, cv2.COLOR_BGR2RGB))\n",
    "\n",
    "# 在PIL图像上添加中文文字\n",
    "font = ImageFont.truetype('simsun.ttc', 40)\n",
    "canvas = ImageDraw.Draw(img_pil)\n",
    "canvas.text((100, 100), \"20120605 魏鹏涛\", font=font, fill=(255, 255, 255))"
   ]
  },
  {
   "cell_type": "code",
   "execution_count": 3,
   "id": "4589048f",
   "metadata": {},
   "outputs": [
    {
     "data": {
      "text/plain": [
       "True"
      ]
     },
     "execution_count": 3,
     "metadata": {},
     "output_type": "execute_result"
    }
   ],
   "source": [
    "# 将PIL图像转换回OpenCV图像\n",
    "img_final = cv2.cvtColor(np.array(img_pil), cv2.COLOR_RGB2BGR)\n",
    "\n",
    "# 显示图片\n",
    "cv2.imshow('image_final', img_final)\n",
    "cv2.waitKey(0)\n",
    "cv2.destroyAllWindows()\n",
    "\n",
    "# 保存最终结果\n",
    "cv2.imwrite(\"result.jpg\", img_final)"
   ]
  },
  {
   "cell_type": "code",
   "execution_count": 4,
   "id": "d3c1aab5",
   "metadata": {},
   "outputs": [],
   "source": [
    "# 创建一个VideoCapture对象来读取本地视频\n",
    "cap = cv2.VideoCapture('Waymo.mp4')"
   ]
  },
  {
   "cell_type": "code",
   "execution_count": 5,
   "id": "6184e830",
   "metadata": {},
   "outputs": [],
   "source": [
    "# 检查是否成功打开了视频文件\n",
    "if not cap.isOpened():\n",
    "    print(\"无法打开视频文件\")"
   ]
  },
  {
   "cell_type": "code",
   "execution_count": 6,
   "id": "c0cd77a6",
   "metadata": {},
   "outputs": [],
   "source": [
    "# 读取并显示视频帧\n",
    "while cap.isOpened():\n",
    "    ret, frame = cap.read()\n",
    "    if not ret:\n",
    "        print(\"无法读取视频帧\")\n",
    "        break\n",
    "\n",
    "    cv2.imshow('Waymo Video', frame)\n",
    "    if cv2.waitKey(25) & 0xFF == ord('q'): #按q键退出\n",
    "        break"
   ]
  },
  {
   "cell_type": "code",
   "execution_count": 7,
   "id": "0bd7e942",
   "metadata": {},
   "outputs": [],
   "source": [
    "# 释放VideoCapture对象和销毁所有窗口\n",
    "cap.release()\n",
    "cv2.destroyAllWindows()"
   ]
  },
  {
   "cell_type": "code",
   "execution_count": null,
   "id": "e77f0996",
   "metadata": {},
   "outputs": [],
   "source": []
  }
 ],
 "metadata": {
  "kernelspec": {
   "display_name": "Python 3 (ipykernel)",
   "language": "python",
   "name": "python3"
  },
  "language_info": {
   "codemirror_mode": {
    "name": "ipython",
    "version": 3
   },
   "file_extension": ".py",
   "mimetype": "text/x-python",
   "name": "python",
   "nbconvert_exporter": "python",
   "pygments_lexer": "ipython3",
   "version": "3.11.2"
  }
 },
 "nbformat": 4,
 "nbformat_minor": 5
}
